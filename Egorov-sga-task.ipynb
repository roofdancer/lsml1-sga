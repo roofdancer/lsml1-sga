{
 "cells": [
  {
   "cell_type": "markdown",
   "metadata": {},
   "source": [
    "# User routes on the site\n",
    "## Description\n",
    "**Clickstream** is a sequence of user actions on a website. It allows you to understand how users interact with the site. In this task, you need to find the most frequent custom routes.\n",
    "\n",
    "## Input data\n",
    "Input data is а table with clickstream data in file `hdfs:/data/clickstream.csv`.\n",
    "\n",
    "### Table structure\n",
    "* `user_id (int)` - Unique user identifier.\n",
    "* `session_id (int)` - Unique identifier for the user session. The user's session lasts until the identifier changes.\n",
    "* `event_type (string)` - Event type from the list:\n",
    "    * **page** - visit to the page\n",
    "    * **event** - any action on the page\n",
    "    * <b>&lt;custom&gt;</b> - string with any other type\n",
    "* `event_type (string)` - Page on the site.\n",
    "* `timestamp (int)` - Unix-timestamp of action.\n",
    "\n",
    "### Browser errors\n",
    "Errors can sometimes occur in the user's browser - after such an error appears, we can no longer trust the data of this session and all the following lines after the error or at the same time with it are considered corrupted and **should not be counted** in statistics.\n",
    "\n",
    "When an error occurs on the page, a random string containing the word **error** will be written to the `event_type` field.\n",
    "\n",
    "### Sample of user session\n",
    "<pre>\n",
    "+-------+----------+------------+----------+----------+\n",
    "|user_id|session_id|  event_type|event_page| timestamp|\n",
    "+-------+----------+------------+----------+----------+\n",
    "|    562|       507|        page|      main|1620494781|\n",
    "|    562|       507|       event|      main|1620494788|\n",
    "|    562|       507|       event|      main|1620494798|\n",
    "|    562|       507|        page|    family|1620494820|\n",
    "|    562|       507|       event|    family|1620494828|\n",
    "|    562|       507|        page|      main|1620494848|\n",
    "|    562|       507|wNaxLlerrorU|      main|1620494865|\n",
    "|    562|       507|       event|      main|1620494873|\n",
    "|    562|       507|        page|      news|1620494875|\n",
    "|    562|       507|        page|   tariffs|1620494876|\n",
    "|    562|       507|       event|   tariffs|1620494884|\n",
    "|    562|       514|        page|      main|1620728918|\n",
    "|    562|       514|       event|      main|1620729174|\n",
    "|    562|       514|        page|   archive|1620729674|\n",
    "|    562|       514|        page|     bonus|1620729797|\n",
    "|    562|       514|        page|   tariffs|1620731090|\n",
    "|    562|       514|       event|   tariffs|1620731187|\n",
    "+-------+----------+------------+----------+----------+\n",
    "</pre>\n",
    "\n",
    "#### Correct user routes for a given user:\n",
    "* **Session 507**: main-family-main\n",
    "* **Session 514**: main-archive-bonus-tariffs\n",
    "\n",
    "Route elements are ordered by the time they appear in the clickstream, from earliest to latest.\n",
    "\n",
    "The route must be accounted for completely before the end of the session or an error in the session.\n",
    "\n",
    "## Task\n",
    "You need to use the Spark SQL, Spark RDD and Spark DF interfaces to create a solution file, the lines of which contain **the 30 most frequent user routes** on the site.\n",
    "\n",
    "Each line of the file should contain the `route` and `count` values **separated by tabs**, where:\n",
    "* `route` - route on the site, consisting of pages separated by \"-\".\n",
    "* `count` - the number of user sessions in which this route was.\n",
    "\n",
    "The lines must be **ordered in descending order** of the `count` field.\n",
    "\n",
    "## Criteria\n",
    "You can get maximum of 3.5 points (final grade) for this assignment, depedning on the number of interface you manage to leverage. The criteria are as follows:\n",
    "\n",
    "* 0.5 points – Spark SQL solution with 1 query\n",
    "* 0.5 points – Spark SQL solution with <=2 queries\n",
    "* 0.5 points – Spark RDD solution\n",
    "* 0.5 points – Spark DF solution\n",
    "* 0.5 points – your solution algorithm is relatively optimized, i.e.: no O^2 or O^3 complexities; appropriate object usage; no data leaks etc. This is evaluated by staff.\n",
    "* 1 point – 1 on 1 screening session. During this session staff member can ask you questions regarding your solution logic, framework usage, questionable parts of your code etc. If your code is clean enough, the staff member can just ask you to solve a theoretical problem connected to Spark.\n"
   ]
  },
  {
   "cell_type": "markdown",
   "metadata": {},
   "source": [
    "## Data load"
   ]
  },
  {
   "cell_type": "code",
   "execution_count": 1,
   "metadata": {
    "tags": []
   },
   "outputs": [
    {
     "name": "stdout",
     "output_type": "stream",
     "text": [
      "Found 2 items\n",
      "-rw-r--r--   1 root supergroup     30.7 M 2023-09-24 20:38 /data/clickstream.csv\n",
      "drwxr-xr-x   - root supergroup          0 2023-09-24 20:38 /data/transactions\n"
     ]
    }
   ],
   "source": [
    "! hadoop fs -ls -h /data"
   ]
  },
  {
   "cell_type": "code",
   "execution_count": 2,
   "metadata": {
    "tags": []
   },
   "outputs": [
    {
     "name": "stderr",
     "output_type": "stream",
     "text": [
      "Setting default log level to \"WARN\".\n",
      "To adjust logging level use sc.setLogLevel(newLevel). For SparkR, use setLogLevel(newLevel).\n",
      "2023-10-10 09:55:11,593 WARN yarn.Client: Neither spark.yarn.jars nor spark.yarn.archive is set, falling back to uploading libraries under SPARK_HOME.\n"
     ]
    }
   ],
   "source": [
    "import findspark\n",
    "findspark.init()\n",
    "\n",
    "import pyspark\n",
    "sc = pyspark.SparkContext(appName='jupyter')\n",
    "\n",
    "from pyspark.sql import SparkSession, Row\n",
    "se = SparkSession(sc)"
   ]
  },
  {
   "cell_type": "code",
   "execution_count": 3,
   "metadata": {
    "tags": []
   },
   "outputs": [
    {
     "name": "stderr",
     "output_type": "stream",
     "text": [
      "                                                                                \r"
     ]
    },
    {
     "data": {
      "text/html": [
       "<div>\n",
       "<style scoped>\n",
       "    .dataframe tbody tr th:only-of-type {\n",
       "        vertical-align: middle;\n",
       "    }\n",
       "\n",
       "    .dataframe tbody tr th {\n",
       "        vertical-align: top;\n",
       "    }\n",
       "\n",
       "    .dataframe thead th {\n",
       "        text-align: right;\n",
       "    }\n",
       "</style>\n",
       "<table border=\"1\" class=\"dataframe\">\n",
       "  <thead>\n",
       "    <tr style=\"text-align: right;\">\n",
       "      <th></th>\n",
       "      <th>user_id</th>\n",
       "      <th>session_id</th>\n",
       "      <th>event_type</th>\n",
       "      <th>event_page</th>\n",
       "      <th>timestamp</th>\n",
       "    </tr>\n",
       "  </thead>\n",
       "  <tbody>\n",
       "    <tr>\n",
       "      <th>0</th>\n",
       "      <td>562</td>\n",
       "      <td>507</td>\n",
       "      <td>page</td>\n",
       "      <td>main</td>\n",
       "      <td>1695584127</td>\n",
       "    </tr>\n",
       "    <tr>\n",
       "      <th>1</th>\n",
       "      <td>562</td>\n",
       "      <td>507</td>\n",
       "      <td>event</td>\n",
       "      <td>main</td>\n",
       "      <td>1695584134</td>\n",
       "    </tr>\n",
       "    <tr>\n",
       "      <th>2</th>\n",
       "      <td>562</td>\n",
       "      <td>507</td>\n",
       "      <td>event</td>\n",
       "      <td>main</td>\n",
       "      <td>1695584144</td>\n",
       "    </tr>\n",
       "    <tr>\n",
       "      <th>3</th>\n",
       "      <td>562</td>\n",
       "      <td>507</td>\n",
       "      <td>event</td>\n",
       "      <td>main</td>\n",
       "      <td>1695584147</td>\n",
       "    </tr>\n",
       "    <tr>\n",
       "      <th>4</th>\n",
       "      <td>562</td>\n",
       "      <td>507</td>\n",
       "      <td>wNaxLlerrorU</td>\n",
       "      <td>main</td>\n",
       "      <td>1695584154</td>\n",
       "    </tr>\n",
       "    <tr>\n",
       "      <th>5</th>\n",
       "      <td>562</td>\n",
       "      <td>507</td>\n",
       "      <td>event</td>\n",
       "      <td>main</td>\n",
       "      <td>1695584154</td>\n",
       "    </tr>\n",
       "    <tr>\n",
       "      <th>6</th>\n",
       "      <td>562</td>\n",
       "      <td>507</td>\n",
       "      <td>event</td>\n",
       "      <td>main</td>\n",
       "      <td>1695584154</td>\n",
       "    </tr>\n",
       "    <tr>\n",
       "      <th>7</th>\n",
       "      <td>562</td>\n",
       "      <td>507</td>\n",
       "      <td>event</td>\n",
       "      <td>main</td>\n",
       "      <td>1695584160</td>\n",
       "    </tr>\n",
       "    <tr>\n",
       "      <th>8</th>\n",
       "      <td>562</td>\n",
       "      <td>507</td>\n",
       "      <td>page</td>\n",
       "      <td>rabota</td>\n",
       "      <td>1695584166</td>\n",
       "    </tr>\n",
       "    <tr>\n",
       "      <th>9</th>\n",
       "      <td>562</td>\n",
       "      <td>507</td>\n",
       "      <td>event</td>\n",
       "      <td>rabota</td>\n",
       "      <td>1695584174</td>\n",
       "    </tr>\n",
       "  </tbody>\n",
       "</table>\n",
       "</div>"
      ],
      "text/plain": [
       "  user_id session_id    event_type event_page   timestamp\n",
       "0     562        507          page       main  1695584127\n",
       "1     562        507         event       main  1695584134\n",
       "2     562        507         event       main  1695584144\n",
       "3     562        507         event       main  1695584147\n",
       "4     562        507  wNaxLlerrorU       main  1695584154\n",
       "5     562        507         event       main  1695584154\n",
       "6     562        507         event       main  1695584154\n",
       "7     562        507         event       main  1695584160\n",
       "8     562        507          page     rabota  1695584166\n",
       "9     562        507         event     rabota  1695584174"
      ]
     },
     "execution_count": 3,
     "metadata": {},
     "output_type": "execute_result"
    }
   ],
   "source": [
    "events = se.read.option(\"delimiter\", \"\\t\").csv(\"hdfs:///data/clickstream.csv\", header=True)  # в первой строке у нас заголовок\n",
    "events.limit(10).toPandas()"
   ]
  },
  {
   "cell_type": "markdown",
   "metadata": {},
   "source": [
    "As we need to extract paths for each user session, in every solution we will use user_id and session_id, separtated by _, as the unique id of a user session."
   ]
  },
  {
   "cell_type": "markdown",
   "metadata": {},
   "source": [
    "## Spark SSL solution"
   ]
  },
  {
   "cell_type": "code",
   "execution_count": 4,
   "metadata": {
    "tags": []
   },
   "outputs": [
    {
     "name": "stdout",
     "output_type": "stream",
     "text": [
      "+-------+----------+------------+----------+----------+\n",
      "|user_id|session_id|  event_type|event_page| timestamp|\n",
      "+-------+----------+------------+----------+----------+\n",
      "|    562|       507|        page|      main|1695584127|\n",
      "|    562|       507|       event|      main|1695584134|\n",
      "|    562|       507|       event|      main|1695584144|\n",
      "|    562|       507|       event|      main|1695584147|\n",
      "|    562|       507|wNaxLlerrorU|      main|1695584154|\n",
      "|    562|       507|       event|      main|1695584154|\n",
      "|    562|       507|       event|      main|1695584154|\n",
      "|    562|       507|       event|      main|1695584160|\n",
      "|    562|       507|        page|    rabota|1695584166|\n",
      "|    562|       507|       event|    rabota|1695584174|\n",
      "|    562|       507|       event|    rabota|1695584181|\n",
      "|    562|       507|       event|    rabota|1695584189|\n",
      "|    562|       507|        page|      main|1695584194|\n",
      "|    562|       507|       event|      main|1695584204|\n",
      "|    562|       507|       event|      main|1695584211|\n",
      "|    562|       507|       event|      main|1695584211|\n",
      "|    562|       507|       event|      main|1695584219|\n",
      "|    562|       507|        page|     bonus|1695584221|\n",
      "|    562|       507|        page|    online|1695584222|\n",
      "|    562|       507|       event|    online|1695584230|\n",
      "+-------+----------+------------+----------+----------+\n",
      "only showing top 20 rows\n",
      "\n"
     ]
    }
   ],
   "source": [
    "events.registerTempTable('events')\n",
    "event_views = se.table(\"events\")\n",
    "event_views.select('*').show()"
   ]
  },
  {
   "cell_type": "markdown",
   "metadata": {},
   "source": [
    "Here we will join two queries to events table: one for extracting the timestamps of errors and one for extracting routes. To collect all valid pages to a path, we will use collect_list function over a window."
   ]
  },
  {
   "cell_type": "code",
   "execution_count": 11,
   "metadata": {
    "tags": []
   },
   "outputs": [
    {
     "name": "stderr",
     "output_type": "stream",
     "text": [
      "[Stage 36:===========================================>              (6 + 2) / 8]\r"
     ]
    },
    {
     "name": "stdout",
     "output_type": "stream",
     "text": [
      "+--------------------+----+\n",
      "|               route| cnt|\n",
      "+--------------------+----+\n",
      "|                main|8090|\n",
      "|        main-archive|1096|\n",
      "|         main-rabota|1039|\n",
      "|       main-internet| 880|\n",
      "|          main-bonus| 865|\n",
      "|           main-news| 760|\n",
      "|        main-tariffs| 669|\n",
      "|         main-online| 584|\n",
      "|          main-vklad| 514|\n",
      "| main-archive-rabota| 167|\n",
      "| main-rabota-archive| 167|\n",
      "|  main-bonus-archive| 139|\n",
      "|   main-rabota-bonus| 137|\n",
      "|    main-news-rabota| 134|\n",
      "|   main-bonus-rabota| 133|\n",
      "|main-archive-inte...| 131|\n",
      "|    main-rabota-news| 129|\n",
      "|main-internet-rabota| 128|\n",
      "|   main-archive-news| 125|\n",
      "|main-internet-arc...| 123|\n",
      "|main-rabota-internet| 123|\n",
      "|  main-archive-bonus| 117|\n",
      "|main-tariffs-inte...| 114|\n",
      "| main-internet-bonus| 114|\n",
      "|   main-news-archive| 112|\n",
      "|  main-news-internet| 108|\n",
      "|main-archive-tariffs| 103|\n",
      "|  main-internet-news| 102|\n",
      "|main-tariffs-archive| 102|\n",
      "|           main-main|  94|\n",
      "+--------------------+----+\n",
      "\n"
     ]
    },
    {
     "name": "stderr",
     "output_type": "stream",
     "text": [
      "                                                                                \r"
     ]
    }
   ],
   "source": [
    "paths_sql = se.sql(\"\"\"\n",
    "select concat_ws('-', route_parts) as route, count(id) as cnt\n",
    "from (\n",
    "    select distinct\n",
    "        CONCAT(user_id, '_',  session_id) as id, collect_list(event_page) over (partition by CONCAT(user_id, '_',  session_id) order by timestamp ROWS BETWEEN UNBOUNDED PRECEDING AND UNBOUNDED FOLLOWING) as route_parts\n",
    "    from events\n",
    "    left join (\n",
    "        select CONCAT(user_id, '_',  session_id) as id, min(int(timestamp)) as min_timestamp\n",
    "        from events\n",
    "        where event_type not in ('page', 'event')\n",
    "        group by CONCAT(user_id, '_',  session_id)\n",
    "    ) errors on CONCAT(events.user_id, '_',  events.session_id) == errors.id\n",
    "    where events.event_type = 'page' and (errors.min_timestamp is null or int(events.timestamp) < errors.min_timestamp)\n",
    ") paths\n",
    "group by route\n",
    "order by cnt desc\n",
    "\"\"\").limit(30)\n",
    "paths_sql.show(30)"
   ]
  },
  {
   "cell_type": "code",
   "execution_count": 24,
   "metadata": {
    "tags": []
   },
   "outputs": [],
   "source": [
    "with open(\"paths_sql.txt\", \"w\") as file_sql:\n",
    "    for item in paths_sql.collect():\n",
    "        file_sql.write(item['route'] + '\\t' + str(item['cnt']) + '\\n')"
   ]
  },
  {
   "cell_type": "markdown",
   "metadata": {},
   "source": [
    "## Spark RDD solution"
   ]
  },
  {
   "cell_type": "markdown",
   "metadata": {},
   "source": [
    "Here we will create two rdds - one to get a dictionary of user session ids to error timestamp of a given session, and one - to get the routes. The function sort_by_time() is used to map each user session to paths sorted in the order of timestamps."
   ]
  },
  {
   "cell_type": "code",
   "execution_count": 25,
   "metadata": {
    "tags": []
   },
   "outputs": [
    {
     "name": "stderr",
     "output_type": "stream",
     "text": [
      "                                                                                \r"
     ]
    }
   ],
   "source": [
    "rdd = events.rdd\n",
    "errors_rdd = (\n",
    "    rdd\n",
    "    .filter(lambda x: x['event_type'] not in ('page', 'event'))\n",
    "    .map(lambda x: (x['user_id'] + '_' + x['session_id'], int(x['timestamp'])))\n",
    "    .reduceByKey(lambda a, b: min(a, b))\n",
    ")\n",
    "errors = dict(errors_rdd.collect())"
   ]
  },
  {
   "cell_type": "code",
   "execution_count": 26,
   "metadata": {
    "tags": []
   },
   "outputs": [
    {
     "name": "stderr",
     "output_type": "stream",
     "text": [
      "                                                                                \r"
     ]
    },
    {
     "data": {
      "text/plain": [
       "[('main', 8090),\n",
       " ('main-archive', 1096),\n",
       " ('main-rabota', 1039),\n",
       " ('main-internet', 880),\n",
       " ('main-bonus', 865),\n",
       " ('main-news', 760),\n",
       " ('main-tariffs', 669),\n",
       " ('main-online', 584),\n",
       " ('main-vklad', 514),\n",
       " ('main-rabota-archive', 167),\n",
       " ('main-archive-rabota', 167),\n",
       " ('main-bonus-archive', 139),\n",
       " ('main-rabota-bonus', 137),\n",
       " ('main-news-rabota', 134),\n",
       " ('main-bonus-rabota', 133),\n",
       " ('main-archive-internet', 131),\n",
       " ('main-rabota-news', 129),\n",
       " ('main-internet-rabota', 128),\n",
       " ('main-archive-news', 125),\n",
       " ('main-rabota-internet', 123),\n",
       " ('main-internet-archive', 123),\n",
       " ('main-archive-bonus', 117),\n",
       " ('main-tariffs-internet', 114),\n",
       " ('main-internet-bonus', 114),\n",
       " ('main-news-archive', 112),\n",
       " ('main-news-internet', 108),\n",
       " ('main-archive-tariffs', 103),\n",
       " ('main-tariffs-archive', 102),\n",
       " ('main-internet-news', 102),\n",
       " ('main-main', 94)]"
      ]
     },
     "execution_count": 26,
     "metadata": {},
     "output_type": "execute_result"
    }
   ],
   "source": [
    "def sort_by_time(it):\n",
    "    it_sorted = sorted(list(it), key=lambda x: x[0])\n",
    "    return '-'.join(map(lambda x: x[1], it_sorted))\n",
    "\n",
    "paths = (\n",
    "    rdd\n",
    "    .filter(lambda x: (x['event_type'] == 'page'))\n",
    "    .map(lambda x: (x['user_id'] + '_' + x['session_id'], (int(x['timestamp']), x['event_page'])))\n",
    "    .filter(lambda x: (x[0] not in errors) or (x[1][0] < errors[x[0]]))\n",
    "    .groupByKey()\n",
    "    .mapValues(sort_by_time)\n",
    "    .map(lambda x: (x[1], x[0]))\n",
    "    .countByKey()\n",
    ")\n",
    "paths_rdd = sorted(paths.items(), key=lambda x: -x[1])[:30]\n",
    "paths_rdd"
   ]
  },
  {
   "cell_type": "code",
   "execution_count": 27,
   "metadata": {
    "tags": []
   },
   "outputs": [],
   "source": [
    "with open(\"paths_rdd.txt\", \"w\") as file_rdd:\n",
    "    for item in paths_rdd:\n",
    "        file_rdd.write(item[0] + '\\t' + str(item[1]) + '\\n')"
   ]
  },
  {
   "cell_type": "markdown",
   "metadata": {},
   "source": [
    "## Spark DF solution"
   ]
  },
  {
   "cell_type": "markdown",
   "metadata": {},
   "source": [
    "Here we will use three dataframes - errors_df for error timestampts, events_df for extracting page events mapped to unique user session ids, and path dataframe, which joins the first two. We will also need a window object to sort the pages correctly within each user session. "
   ]
  },
  {
   "cell_type": "code",
   "execution_count": 29,
   "metadata": {},
   "outputs": [
    {
     "name": "stderr",
     "output_type": "stream",
     "text": [
      "                                                                                \r"
     ]
    },
    {
     "data": {
      "text/html": [
       "<div>\n",
       "<style scoped>\n",
       "    .dataframe tbody tr th:only-of-type {\n",
       "        vertical-align: middle;\n",
       "    }\n",
       "\n",
       "    .dataframe tbody tr th {\n",
       "        vertical-align: top;\n",
       "    }\n",
       "\n",
       "    .dataframe thead th {\n",
       "        text-align: right;\n",
       "    }\n",
       "</style>\n",
       "<table border=\"1\" class=\"dataframe\">\n",
       "  <thead>\n",
       "    <tr style=\"text-align: right;\">\n",
       "      <th></th>\n",
       "      <th>id</th>\n",
       "      <th>min_timestamp</th>\n",
       "    </tr>\n",
       "  </thead>\n",
       "  <tbody>\n",
       "    <tr>\n",
       "      <th>0</th>\n",
       "      <td>996_797</td>\n",
       "      <td>1695587393</td>\n",
       "    </tr>\n",
       "    <tr>\n",
       "      <th>1</th>\n",
       "      <td>3646_465</td>\n",
       "      <td>1695597176</td>\n",
       "    </tr>\n",
       "    <tr>\n",
       "      <th>2</th>\n",
       "      <td>2547_608</td>\n",
       "      <td>1695645778</td>\n",
       "    </tr>\n",
       "    <tr>\n",
       "      <th>3</th>\n",
       "      <td>2649_476</td>\n",
       "      <td>1695861384</td>\n",
       "    </tr>\n",
       "    <tr>\n",
       "      <th>4</th>\n",
       "      <td>112_4</td>\n",
       "      <td>1695876444</td>\n",
       "    </tr>\n",
       "    <tr>\n",
       "      <th>5</th>\n",
       "      <td>4512_949</td>\n",
       "      <td>1695949026</td>\n",
       "    </tr>\n",
       "    <tr>\n",
       "      <th>6</th>\n",
       "      <td>4667_87</td>\n",
       "      <td>1695994992</td>\n",
       "    </tr>\n",
       "    <tr>\n",
       "      <th>7</th>\n",
       "      <td>4229_942</td>\n",
       "      <td>1696006992</td>\n",
       "    </tr>\n",
       "    <tr>\n",
       "      <th>8</th>\n",
       "      <td>4623_179</td>\n",
       "      <td>1696070855</td>\n",
       "    </tr>\n",
       "    <tr>\n",
       "      <th>9</th>\n",
       "      <td>2952_9</td>\n",
       "      <td>1696181787</td>\n",
       "    </tr>\n",
       "  </tbody>\n",
       "</table>\n",
       "</div>"
      ],
      "text/plain": [
       "         id  min_timestamp\n",
       "0   996_797     1695587393\n",
       "1  3646_465     1695597176\n",
       "2  2547_608     1695645778\n",
       "3  2649_476     1695861384\n",
       "4     112_4     1695876444\n",
       "5  4512_949     1695949026\n",
       "6   4667_87     1695994992\n",
       "7  4229_942     1696006992\n",
       "8  4623_179     1696070855\n",
       "9    2952_9     1696181787"
      ]
     },
     "execution_count": 29,
     "metadata": {},
     "output_type": "execute_result"
    }
   ],
   "source": [
    "from pyspark.sql import functions as F\n",
    "\n",
    "errors_df = (\n",
    "    events\n",
    "    .where(~(F.col('event_type').isin('page', 'event')))\n",
    "    .select(F.concat(F.col('user_id'), F.lit('_'), F.col('session_id')).alias('id'), F.col(\"timestamp\").cast(\"int\").alias(\"timestamp\"))\n",
    "    .groupby('id')\n",
    "    .agg(F.min(\"timestamp\").alias(\"min_timestamp\"))\n",
    ")\n",
    "errors = errors_df.toPandas().set_index('id').to_dict(orient = 'list')\n",
    "errors_df.limit(10).toPandas()"
   ]
  },
  {
   "cell_type": "code",
   "execution_count": 31,
   "metadata": {
    "tags": []
   },
   "outputs": [
    {
     "name": "stderr",
     "output_type": "stream",
     "text": [
      "                                                                                \r"
     ]
    },
    {
     "data": {
      "text/html": [
       "<div>\n",
       "<style scoped>\n",
       "    .dataframe tbody tr th:only-of-type {\n",
       "        vertical-align: middle;\n",
       "    }\n",
       "\n",
       "    .dataframe tbody tr th {\n",
       "        vertical-align: top;\n",
       "    }\n",
       "\n",
       "    .dataframe thead th {\n",
       "        text-align: right;\n",
       "    }\n",
       "</style>\n",
       "<table border=\"1\" class=\"dataframe\">\n",
       "  <thead>\n",
       "    <tr style=\"text-align: right;\">\n",
       "      <th></th>\n",
       "      <th>route</th>\n",
       "      <th>cnt</th>\n",
       "    </tr>\n",
       "  </thead>\n",
       "  <tbody>\n",
       "    <tr>\n",
       "      <th>0</th>\n",
       "      <td>main</td>\n",
       "      <td>8090</td>\n",
       "    </tr>\n",
       "    <tr>\n",
       "      <th>1</th>\n",
       "      <td>main-archive</td>\n",
       "      <td>1096</td>\n",
       "    </tr>\n",
       "    <tr>\n",
       "      <th>2</th>\n",
       "      <td>main-rabota</td>\n",
       "      <td>1039</td>\n",
       "    </tr>\n",
       "    <tr>\n",
       "      <th>3</th>\n",
       "      <td>main-internet</td>\n",
       "      <td>880</td>\n",
       "    </tr>\n",
       "    <tr>\n",
       "      <th>4</th>\n",
       "      <td>main-bonus</td>\n",
       "      <td>865</td>\n",
       "    </tr>\n",
       "    <tr>\n",
       "      <th>5</th>\n",
       "      <td>main-news</td>\n",
       "      <td>760</td>\n",
       "    </tr>\n",
       "    <tr>\n",
       "      <th>6</th>\n",
       "      <td>main-tariffs</td>\n",
       "      <td>669</td>\n",
       "    </tr>\n",
       "    <tr>\n",
       "      <th>7</th>\n",
       "      <td>main-online</td>\n",
       "      <td>584</td>\n",
       "    </tr>\n",
       "    <tr>\n",
       "      <th>8</th>\n",
       "      <td>main-vklad</td>\n",
       "      <td>514</td>\n",
       "    </tr>\n",
       "    <tr>\n",
       "      <th>9</th>\n",
       "      <td>main-rabota-archive</td>\n",
       "      <td>167</td>\n",
       "    </tr>\n",
       "    <tr>\n",
       "      <th>10</th>\n",
       "      <td>main-archive-rabota</td>\n",
       "      <td>167</td>\n",
       "    </tr>\n",
       "    <tr>\n",
       "      <th>11</th>\n",
       "      <td>main-bonus-archive</td>\n",
       "      <td>139</td>\n",
       "    </tr>\n",
       "    <tr>\n",
       "      <th>12</th>\n",
       "      <td>main-rabota-bonus</td>\n",
       "      <td>137</td>\n",
       "    </tr>\n",
       "    <tr>\n",
       "      <th>13</th>\n",
       "      <td>main-news-rabota</td>\n",
       "      <td>134</td>\n",
       "    </tr>\n",
       "    <tr>\n",
       "      <th>14</th>\n",
       "      <td>main-bonus-rabota</td>\n",
       "      <td>133</td>\n",
       "    </tr>\n",
       "    <tr>\n",
       "      <th>15</th>\n",
       "      <td>main-archive-internet</td>\n",
       "      <td>131</td>\n",
       "    </tr>\n",
       "    <tr>\n",
       "      <th>16</th>\n",
       "      <td>main-rabota-news</td>\n",
       "      <td>129</td>\n",
       "    </tr>\n",
       "    <tr>\n",
       "      <th>17</th>\n",
       "      <td>main-internet-rabota</td>\n",
       "      <td>128</td>\n",
       "    </tr>\n",
       "    <tr>\n",
       "      <th>18</th>\n",
       "      <td>main-archive-news</td>\n",
       "      <td>125</td>\n",
       "    </tr>\n",
       "    <tr>\n",
       "      <th>19</th>\n",
       "      <td>main-rabota-internet</td>\n",
       "      <td>123</td>\n",
       "    </tr>\n",
       "    <tr>\n",
       "      <th>20</th>\n",
       "      <td>main-internet-archive</td>\n",
       "      <td>123</td>\n",
       "    </tr>\n",
       "    <tr>\n",
       "      <th>21</th>\n",
       "      <td>main-archive-bonus</td>\n",
       "      <td>117</td>\n",
       "    </tr>\n",
       "    <tr>\n",
       "      <th>22</th>\n",
       "      <td>main-tariffs-internet</td>\n",
       "      <td>114</td>\n",
       "    </tr>\n",
       "    <tr>\n",
       "      <th>23</th>\n",
       "      <td>main-internet-bonus</td>\n",
       "      <td>114</td>\n",
       "    </tr>\n",
       "    <tr>\n",
       "      <th>24</th>\n",
       "      <td>main-news-archive</td>\n",
       "      <td>112</td>\n",
       "    </tr>\n",
       "    <tr>\n",
       "      <th>25</th>\n",
       "      <td>main-news-internet</td>\n",
       "      <td>108</td>\n",
       "    </tr>\n",
       "    <tr>\n",
       "      <th>26</th>\n",
       "      <td>main-archive-tariffs</td>\n",
       "      <td>103</td>\n",
       "    </tr>\n",
       "    <tr>\n",
       "      <th>27</th>\n",
       "      <td>main-internet-news</td>\n",
       "      <td>102</td>\n",
       "    </tr>\n",
       "    <tr>\n",
       "      <th>28</th>\n",
       "      <td>main-tariffs-archive</td>\n",
       "      <td>102</td>\n",
       "    </tr>\n",
       "    <tr>\n",
       "      <th>29</th>\n",
       "      <td>main-main</td>\n",
       "      <td>94</td>\n",
       "    </tr>\n",
       "  </tbody>\n",
       "</table>\n",
       "</div>"
      ],
      "text/plain": [
       "                    route   cnt\n",
       "0                    main  8090\n",
       "1            main-archive  1096\n",
       "2             main-rabota  1039\n",
       "3           main-internet   880\n",
       "4              main-bonus   865\n",
       "5               main-news   760\n",
       "6            main-tariffs   669\n",
       "7             main-online   584\n",
       "8              main-vklad   514\n",
       "9     main-rabota-archive   167\n",
       "10    main-archive-rabota   167\n",
       "11     main-bonus-archive   139\n",
       "12      main-rabota-bonus   137\n",
       "13       main-news-rabota   134\n",
       "14      main-bonus-rabota   133\n",
       "15  main-archive-internet   131\n",
       "16       main-rabota-news   129\n",
       "17   main-internet-rabota   128\n",
       "18      main-archive-news   125\n",
       "19   main-rabota-internet   123\n",
       "20  main-internet-archive   123\n",
       "21     main-archive-bonus   117\n",
       "22  main-tariffs-internet   114\n",
       "23    main-internet-bonus   114\n",
       "24      main-news-archive   112\n",
       "25     main-news-internet   108\n",
       "26   main-archive-tariffs   103\n",
       "27     main-internet-news   102\n",
       "28   main-tariffs-archive   102\n",
       "29              main-main    94"
      ]
     },
     "execution_count": 31,
     "metadata": {},
     "output_type": "execute_result"
    }
   ],
   "source": [
    "from pyspark.sql.window import Window\n",
    "\n",
    "events_df = (\n",
    "    events\n",
    "    .where(F.col('event_type') == 'page')\n",
    "    .select(F.concat(F.col('user_id'), F.lit('_'), F.col('session_id')).alias('id'), F.col(\"timestamp\").cast(\"int\").alias(\"timestamp\"), F.col('event_page'))\n",
    ")\n",
    "window = Window.partitionBy('id').orderBy(\"timestamp\").rowsBetween(Window.unboundedPreceding, Window.unboundedFollowing)\n",
    "paths = (\n",
    "    events_df\n",
    "    .join(errors_df, events_df.id == errors_df.id, 'leftouter')\n",
    "    .where(F.col('min_timestamp').isNull() | (F.col('timestamp') < F.col('min_timestamp')))\n",
    "    .select(events_df.id, events_df.event_page, events_df.timestamp)\n",
    "    .withColumn('route_parts', F.collect_list(F.col('event_page')).over(window))\n",
    "    .withColumn('route', F.concat_ws('-', F.col('route_parts')))\n",
    "    .select('route', 'id')\n",
    "    .distinct()\n",
    "    .groupby('route')\n",
    "    .agg(F.count('id').alias(\"cnt\"))\n",
    "    .sort(F.desc(\"cnt\"))\n",
    ")\n",
    "paths_df = paths.limit(30).toPandas()\n",
    "paths_df"
   ]
  },
  {
   "cell_type": "code",
   "execution_count": 37,
   "metadata": {},
   "outputs": [],
   "source": [
    "with open(\"paths_df.txt\", \"w\") as file_df:\n",
    "    for index, item in paths_df.iterrows():\n",
    "        file_df.write(item['route'] + '\\t' + str(item['cnt']) + '\\n')"
   ]
  },
  {
   "cell_type": "code",
   "execution_count": null,
   "metadata": {},
   "outputs": [],
   "source": []
  }
 ],
 "metadata": {
  "coursera": {
   "schema_names": [
    "week-4-spark-homework"
   ]
  },
  "kernelspec": {
   "display_name": "Python 3 (ipykernel)",
   "language": "python",
   "name": "python3"
  },
  "language_info": {
   "codemirror_mode": {
    "name": "ipython",
    "version": 3
   },
   "file_extension": ".py",
   "mimetype": "text/x-python",
   "name": "python",
   "nbconvert_exporter": "python",
   "pygments_lexer": "ipython3",
   "version": "3.10.9"
  },
  "vscode": {
   "interpreter": {
    "hash": "31f2aee4e71d21fbe5cf8b01ff0e069b9275f58929596ceb00d14d90e3e16cd6"
   }
  }
 },
 "nbformat": 4,
 "nbformat_minor": 4
}
